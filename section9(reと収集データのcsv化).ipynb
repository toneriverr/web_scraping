{
 "cells": [
  {
   "cell_type": "markdown",
   "metadata": {},
   "source": [
    "# 【第9回】スクレイピング結果をCSVに保存しよう！\n",
    "\n",
    "\n",
    "今回の講義では、スクレイピング結果をCSVに保存する方法を習得していきたいと思います。\n",
    "\n",
    "前回の講義でSUUMOのホームページを使い、複数ページから情報取得する方法を学びました。\n",
    "\n",
    "<br>\n",
    "\n",
    "ただ、その取得結果を保存する方法は、まだ学習していませんでした。\n",
    "\n",
    "そもそもスクレイピングをする目的は、だいたい以下になります。\n",
    "\n",
    "- 手作業でおこなうと面倒なデータ取得をプログラムで自動化する\n",
    "- コピペするときのヒューマンエラーをなくす\n",
    "- 取得したデータを分析する\n",
    "\n",
    "上記のような目的があることを考えると、やはりスクレイピング結果は保存しておけることが重要です。\n",
    "\n",
    "<br>\n",
    "\n",
    "というわけで、スクレイピング結果をCSVに保存する方法を学んでいきましょう。\n",
    "\n",
    "この動画まで見ていただくと「スクレイピングにおける一連の流れをしっかりと習得できている」と言えます！\n",
    "\n",
    "一緒に頑張っていきましょう！\n",
    "\n",
    "<br>\n",
    "\n",
    "*※動画の感想を、僕のTwitterにメンションしてツイートしていただけると嬉しいです（ ;  ; ）！*\n",
    "\n",
    "Twitter : [@hayatasuuu](https://twitter.com/hayatasuuu)"
   ]
  },
  {
   "cell_type": "markdown",
   "metadata": {},
   "source": [
    "# ライブラリのインポート\n",
    "\n",
    "今回は、前回の講義で紹介した3つのライブラリに追加して、`Pandas`を使っていきたいと思います。"
   ]
  },
  {
   "cell_type": "code",
   "execution_count": 1,
   "metadata": {
    "execution": {
     "iopub.execute_input": "2023-12-31T06:43:01.248851Z",
     "iopub.status.busy": "2023-12-31T06:43:01.248851Z",
     "iopub.status.idle": "2023-12-31T06:43:01.897000Z",
     "shell.execute_reply": "2023-12-31T06:43:01.897000Z",
     "shell.execute_reply.started": "2023-12-31T06:43:01.248851Z"
    }
   },
   "outputs": [],
   "source": [
    "# ライブラリのインポート\n",
    "from time import sleep\n",
    "from bs4 import BeautifulSoup\n",
    "import requests\n",
    "import pandas as pd"
   ]
  },
  {
   "cell_type": "markdown",
   "metadata": {},
   "source": [
    "`Pandas`はデータを扱いやすくするライブラリで、データサイエンスの場面で非常によく使われています。\n",
    "\n",
    "*※というか、データサイエンスで1番使うライブラリが`Pandas`です。サッカーでいうとリフティングみたいなイメージですかね。地味だけど、非常に重要なライブラリです！*\n",
    "\n",
    "<br>\n",
    "\n",
    "今回の動画では、CSVを作成するときに`Pandas`を使っていきます。\n",
    "\n",
    "本来はもっと色々なことができますが、それだけで1つの講義シリーズを作成できてしまうので、今回は使う部分だけ紹介していきますね！"
   ]
  },
  {
   "cell_type": "markdown",
   "metadata": {},
   "source": [
    "# 複数ページから情報取得する\n",
    "\n",
    "まずはCSVに保存するために、前回と同様にデータを取得していきましょう。\n",
    "\n",
    "以前に作成したコードを使って、今回は1ページ目と2ページ目だけスクレイピングしていきたいと思います。\n",
    "\n",
    "<br>\n",
    "\n",
    "今回は取得結果の保存が目的なので、以下のコードは実行するだけで良いですね！"
   ]
  },
  {
   "cell_type": "code",
   "execution_count": 2,
   "metadata": {
    "execution": {
     "iopub.execute_input": "2023-12-31T06:44:26.267823Z",
     "iopub.status.busy": "2023-12-31T06:44:26.267823Z",
     "iopub.status.idle": "2023-12-31T06:44:33.281403Z",
     "shell.execute_reply": "2023-12-31T06:44:33.281403Z",
     "shell.execute_reply.started": "2023-12-31T06:44:26.267823Z"
    }
   },
   "outputs": [
    {
     "name": "stdout",
     "output_type": "stream",
     "text": [
      "d_listの大きさ： 0\n",
      "https://suumo.jp/chintai/tokyo/sc_shinjuku/?page=1\n",
      "d_listの大きさ： 148\n",
      "https://suumo.jp/chintai/tokyo/sc_shinjuku/?page=2\n"
     ]
    }
   ],
   "source": [
    "# 変数urlにSUUMOホームページのURLを格納する\n",
    "url = 'https://suumo.jp/chintai/tokyo/sc_shinjuku/?page={}'\n",
    "\n",
    "# 変数d_listに空のリストを作成する\n",
    "d_list = []\n",
    "\n",
    "# アクセスするためのURLをtarget_urlに格納する\n",
    "for i in range(1, 3):\n",
    "    print('d_listの大きさ：', len(d_list))\n",
    "    target_url = url.format(i)\n",
    "\n",
    "    # print()してtarget_urlを確認する\n",
    "    print(target_url)\n",
    "\n",
    "    # target_urlへのアクセス結果を、変数rに格納\n",
    "    r = requests.get(target_url)\n",
    "    \n",
    "    sleep(1)\n",
    "\n",
    "    # 取得結果を解析してsoupに格納\n",
    "    soup = BeautifulSoup(r.text)\n",
    "    \n",
    "    # すべての物件情報(20件)を取得する\n",
    "    contents = soup.find_all('div', class_='cassetteitem')\n",
    "\n",
    "    # 各物件情報をforループで取得する\n",
    "    for content in contents:\n",
    "        # 物件情報と部屋情報を取得しておく\n",
    "        detail = content.find('div', class_='cassetteitem_content')\n",
    "        table = content.find('table', class_='cassetteitem_other')\n",
    "\n",
    "        # 物件情報から必要な情報を取得する\n",
    "        title = detail.find('div', class_='cassetteitem_content-title').text\n",
    "        address = detail.find('li', class_='cassetteitem_detail-col1').text\n",
    "        access = detail.find('li', class_='cassetteitem_detail-col2').text\n",
    "        age = detail.find('li', class_='cassetteitem_detail-col3').text\n",
    "\n",
    "        # 部屋情報のブロックから、各部屋情報を取得する\n",
    "        tr_tags = table.find_all('tr', class_='js-cassette_link')\n",
    "\n",
    "        # 各部屋情報をforループで取得する\n",
    "        for tr_tag in tr_tags:        \n",
    "\n",
    "            # 部屋情報の行から、欲しい情報を取得する\n",
    "            floor, price, first_fee, capacity = tr_tag.find_all('td')[2:6]\n",
    "\n",
    "            # さらに細かい情報を取得する\n",
    "            fee, management_fee = price.find_all('li')\n",
    "            deposit, gratuity = first_fee.find_all('li')\n",
    "            madori, menseki = capacity.find_all('li')\n",
    "\n",
    "            # 取得したすべての情報を辞書に格納する\n",
    "            d = {\n",
    "                'title': title,\n",
    "                'address': address,\n",
    "                'access': access,\n",
    "                'age': age,\n",
    "                'floor': floor.text,\n",
    "                'fee': fee.text,\n",
    "                'management_fee': management_fee.text,\n",
    "                'deposit': deposit.text,\n",
    "                'gratuity': gratuity.text,\n",
    "                'madori': madori.text,\n",
    "                'menseki': menseki.text\n",
    "            }\n",
    "\n",
    "            # 取得した辞書をd_listに格納する\n",
    "            d_list.append(d)"
   ]
  },
  {
   "cell_type": "markdown",
   "metadata": {},
   "source": [
    "これでスクレイピングが完了しました。\n",
    "\n",
    "今回取得したデータは「リストの中に辞書を入れる」という形にしていたので、スライスを使うことで、中身に入っているデータをいくつか確認できますね。"
   ]
  },
  {
   "cell_type": "code",
   "execution_count": 3,
   "metadata": {
    "execution": {
     "iopub.execute_input": "2023-12-31T06:45:20.094985Z",
     "iopub.status.busy": "2023-12-31T06:45:20.093950Z",
     "iopub.status.idle": "2023-12-31T06:45:20.105668Z",
     "shell.execute_reply": "2023-12-31T06:45:20.104855Z",
     "shell.execute_reply.started": "2023-12-31T06:45:20.094985Z"
    }
   },
   "outputs": [
    {
     "data": {
      "text/plain": [
       "[{'title': 'カーサマグノリア',\n",
       "  'address': '東京都新宿区上落合３',\n",
       "  'access': '\\n東京メトロ東西線/落合駅 歩4分\\nＪＲ中央線/東中野駅 歩7分\\n都営大江戸線/中井駅 歩8分\\n',\n",
       "  'age': '\\n築5年\\n地下1地上2階建\\n',\n",
       "  'floor': '\\r\\n\\t\\t\\t\\t\\t\\t\\t\\t\\t\\t\\t1階',\n",
       "  'fee': '6.05万円',\n",
       "  'management_fee': '5000円',\n",
       "  'deposit': '-',\n",
       "  'gratuity': '-',\n",
       "  'madori': 'ワンルーム',\n",
       "  'menseki': '12.64m2'},\n",
       " {'title': 'カーサマグノリア',\n",
       "  'address': '東京都新宿区上落合３',\n",
       "  'access': '\\n東京メトロ東西線/落合駅 歩4分\\nＪＲ中央線/東中野駅 歩7分\\n都営大江戸線/中井駅 歩8分\\n',\n",
       "  'age': '\\n築5年\\n地下1地上2階建\\n',\n",
       "  'floor': '\\r\\n\\t\\t\\t\\t\\t\\t\\t\\t\\t\\t\\t2階',\n",
       "  'fee': '6.45万円',\n",
       "  'management_fee': '5000円',\n",
       "  'deposit': '-',\n",
       "  'gratuity': '-',\n",
       "  'madori': 'ワンルーム',\n",
       "  'menseki': '9.06m2'}]"
      ]
     },
     "execution_count": 3,
     "metadata": {},
     "output_type": "execute_result"
    }
   ],
   "source": [
    "# d_listの2番目まで中身を確認してみる\n",
    "d_list[:2]"
   ]
  },
  {
   "cell_type": "markdown",
   "metadata": {},
   "source": [
    "というわけで、このリストを使ってCSVを作成していきましょう！"
   ]
  },
  {
   "cell_type": "markdown",
   "metadata": {},
   "source": [
    "# 取得したデータを保存する\n",
    "\n",
    "スクレイピングで取ってきたデータを保存するには、以下のステップが必要になります。\n",
    "\n",
    "- 取得したデータを表形式にする\n",
    "- 表形式の取得結果をCSVに出力する\n",
    "\n",
    "今までスクレイピング結果を`[{辞書1}, {辞書2}, ..., {辞書N}]`のように、少し面倒な形式で変数に格納していました。\n",
    "\n",
    "このような書き方をしていたのは、実は「**取得したデータの表変換をカンタンにする**」のが目的でした。\n",
    "\n",
    "<br>\n",
    "\n",
    "なので、取得したデータの保存はスムーズにやっていけます！"
   ]
  },
  {
   "cell_type": "markdown",
   "metadata": {},
   "source": [
    "## 取得したデータを表形式にする\n",
    "\n",
    "まずはCSVに保存するために、取得した結果を表形式にしたいと思います。\n",
    "\n",
    "そのためには、新しくインポートした`Pandas`を使って、**スクレイピング結果が入っているリストをデータフレームに変換**してあげます。\n",
    "\n",
    "<br>\n",
    "\n",
    "一般的に、Python上で一からデータフレームを作成するのは難しいのですが、リスト内に辞書を入れておくことで、簡単に表形式に変換できます。\n",
    "\n",
    "実際に変数`d_list`を使って、データフレームの作成をやっていきましょう。"
   ]
  },
  {
   "cell_type": "code",
   "execution_count": 4,
   "metadata": {
    "execution": {
     "iopub.execute_input": "2023-12-31T06:46:15.883554Z",
     "iopub.status.busy": "2023-12-31T06:46:15.882502Z",
     "iopub.status.idle": "2023-12-31T06:46:15.904349Z",
     "shell.execute_reply": "2023-12-31T06:46:15.904349Z",
     "shell.execute_reply.started": "2023-12-31T06:46:15.883554Z"
    }
   },
   "outputs": [],
   "source": [
    "# 変数d_listを使って、データフレームを作成する\n",
    "df = pd.DataFrame(d_list)"
   ]
  },
  {
   "cell_type": "markdown",
   "metadata": {},
   "source": [
    "この一行だけで、リスト形式で格納していたデータを表形式に変換できました。\n",
    "\n",
    "実際に中身を確認していきましょう。\n",
    "\n",
    "<br>\n",
    "\n",
    "データフレームの中身を確認するとき、`df.head()`と書くことで先頭の5行を確認できます。"
   ]
  },
  {
   "cell_type": "code",
   "execution_count": 5,
   "metadata": {
    "execution": {
     "iopub.execute_input": "2023-12-31T06:46:23.125766Z",
     "iopub.status.busy": "2023-12-31T06:46:23.125766Z",
     "iopub.status.idle": "2023-12-31T06:46:23.151742Z",
     "shell.execute_reply": "2023-12-31T06:46:23.150837Z",
     "shell.execute_reply.started": "2023-12-31T06:46:23.125766Z"
    }
   },
   "outputs": [
    {
     "data": {
      "text/html": [
       "<div>\n",
       "<style scoped>\n",
       "    .dataframe tbody tr th:only-of-type {\n",
       "        vertical-align: middle;\n",
       "    }\n",
       "\n",
       "    .dataframe tbody tr th {\n",
       "        vertical-align: top;\n",
       "    }\n",
       "\n",
       "    .dataframe thead th {\n",
       "        text-align: right;\n",
       "    }\n",
       "</style>\n",
       "<table border=\"1\" class=\"dataframe\">\n",
       "  <thead>\n",
       "    <tr style=\"text-align: right;\">\n",
       "      <th></th>\n",
       "      <th>title</th>\n",
       "      <th>address</th>\n",
       "      <th>access</th>\n",
       "      <th>age</th>\n",
       "      <th>floor</th>\n",
       "      <th>fee</th>\n",
       "      <th>management_fee</th>\n",
       "      <th>deposit</th>\n",
       "      <th>gratuity</th>\n",
       "      <th>madori</th>\n",
       "      <th>menseki</th>\n",
       "    </tr>\n",
       "  </thead>\n",
       "  <tbody>\n",
       "    <tr>\n",
       "      <th>0</th>\n",
       "      <td>カーサマグノリア</td>\n",
       "      <td>東京都新宿区上落合３</td>\n",
       "      <td>\\n東京メトロ東西線/落合駅 歩4分\\nＪＲ中央線/東中野駅 歩7分\\n都営大江戸線/中井駅...</td>\n",
       "      <td>\\n築5年\\n地下1地上2階建\\n</td>\n",
       "      <td>\\r\\n\\t\\t\\t\\t\\t\\t\\t\\t\\t\\t\\t1階</td>\n",
       "      <td>6.05万円</td>\n",
       "      <td>5000円</td>\n",
       "      <td>-</td>\n",
       "      <td>-</td>\n",
       "      <td>ワンルーム</td>\n",
       "      <td>12.64m2</td>\n",
       "    </tr>\n",
       "    <tr>\n",
       "      <th>1</th>\n",
       "      <td>カーサマグノリア</td>\n",
       "      <td>東京都新宿区上落合３</td>\n",
       "      <td>\\n東京メトロ東西線/落合駅 歩4分\\nＪＲ中央線/東中野駅 歩7分\\n都営大江戸線/中井駅...</td>\n",
       "      <td>\\n築5年\\n地下1地上2階建\\n</td>\n",
       "      <td>\\r\\n\\t\\t\\t\\t\\t\\t\\t\\t\\t\\t\\t2階</td>\n",
       "      <td>6.45万円</td>\n",
       "      <td>5000円</td>\n",
       "      <td>-</td>\n",
       "      <td>-</td>\n",
       "      <td>ワンルーム</td>\n",
       "      <td>9.06m2</td>\n",
       "    </tr>\n",
       "    <tr>\n",
       "      <th>2</th>\n",
       "      <td>カーサマグノリア</td>\n",
       "      <td>東京都新宿区上落合３</td>\n",
       "      <td>\\n東京メトロ東西線/落合駅 歩4分\\nＪＲ中央線/東中野駅 歩7分\\n都営大江戸線/中井駅...</td>\n",
       "      <td>\\n築5年\\n地下1地上2階建\\n</td>\n",
       "      <td>\\r\\n\\t\\t\\t\\t\\t\\t\\t\\t\\t\\t\\t2階</td>\n",
       "      <td>6.45万円</td>\n",
       "      <td>5000円</td>\n",
       "      <td>-</td>\n",
       "      <td>-</td>\n",
       "      <td>ワンルーム</td>\n",
       "      <td>9.06m2</td>\n",
       "    </tr>\n",
       "    <tr>\n",
       "      <th>3</th>\n",
       "      <td>都営大江戸線 落合南長崎駅 7階建 築45年</td>\n",
       "      <td>東京都新宿区西落合１</td>\n",
       "      <td>\\n都営大江戸線/落合南長崎駅 歩5分\\n西武池袋線/東長崎駅 歩13分\\n西武新宿線/中井...</td>\n",
       "      <td>\\n築45年\\n7階建\\n</td>\n",
       "      <td>\\r\\n\\t\\t\\t\\t\\t\\t\\t\\t\\t\\t\\t4階</td>\n",
       "      <td>13万円</td>\n",
       "      <td>5000円</td>\n",
       "      <td>13万円</td>\n",
       "      <td>15.6万円</td>\n",
       "      <td>1LDK</td>\n",
       "      <td>43.35m2</td>\n",
       "    </tr>\n",
       "    <tr>\n",
       "      <th>4</th>\n",
       "      <td>レジディア市谷砂土原</td>\n",
       "      <td>東京都新宿区市谷砂土原町３</td>\n",
       "      <td>\\n都営大江戸線/牛込神楽坂駅 歩6分\\n東京メトロ有楽町線/市ケ谷駅 歩8分\\nＪＲ中央線...</td>\n",
       "      <td>\\n築16年\\n5階建\\n</td>\n",
       "      <td>\\r\\n\\t\\t\\t\\t\\t\\t\\t\\t\\t\\t\\t4階</td>\n",
       "      <td>105万円</td>\n",
       "      <td>-</td>\n",
       "      <td>315万円</td>\n",
       "      <td>-</td>\n",
       "      <td>4LDK</td>\n",
       "      <td>181.6m2</td>\n",
       "    </tr>\n",
       "  </tbody>\n",
       "</table>\n",
       "</div>"
      ],
      "text/plain": [
       "                    title        address  \\\n",
       "0                カーサマグノリア     東京都新宿区上落合３   \n",
       "1                カーサマグノリア     東京都新宿区上落合３   \n",
       "2                カーサマグノリア     東京都新宿区上落合３   \n",
       "3  都営大江戸線 落合南長崎駅 7階建 築45年     東京都新宿区西落合１   \n",
       "4              レジディア市谷砂土原  東京都新宿区市谷砂土原町３   \n",
       "\n",
       "                                              access                age  \\\n",
       "0  \\n東京メトロ東西線/落合駅 歩4分\\nＪＲ中央線/東中野駅 歩7分\\n都営大江戸線/中井駅...  \\n築5年\\n地下1地上2階建\\n   \n",
       "1  \\n東京メトロ東西線/落合駅 歩4分\\nＪＲ中央線/東中野駅 歩7分\\n都営大江戸線/中井駅...  \\n築5年\\n地下1地上2階建\\n   \n",
       "2  \\n東京メトロ東西線/落合駅 歩4分\\nＪＲ中央線/東中野駅 歩7分\\n都営大江戸線/中井駅...  \\n築5年\\n地下1地上2階建\\n   \n",
       "3  \\n都営大江戸線/落合南長崎駅 歩5分\\n西武池袋線/東長崎駅 歩13分\\n西武新宿線/中井...      \\n築45年\\n7階建\\n   \n",
       "4  \\n都営大江戸線/牛込神楽坂駅 歩6分\\n東京メトロ有楽町線/市ケ谷駅 歩8分\\nＪＲ中央線...      \\n築16年\\n5階建\\n   \n",
       "\n",
       "                          floor     fee management_fee deposit gratuity  \\\n",
       "0  \\r\\n\\t\\t\\t\\t\\t\\t\\t\\t\\t\\t\\t1階  6.05万円          5000円       -        -   \n",
       "1  \\r\\n\\t\\t\\t\\t\\t\\t\\t\\t\\t\\t\\t2階  6.45万円          5000円       -        -   \n",
       "2  \\r\\n\\t\\t\\t\\t\\t\\t\\t\\t\\t\\t\\t2階  6.45万円          5000円       -        -   \n",
       "3  \\r\\n\\t\\t\\t\\t\\t\\t\\t\\t\\t\\t\\t4階    13万円          5000円    13万円   15.6万円   \n",
       "4  \\r\\n\\t\\t\\t\\t\\t\\t\\t\\t\\t\\t\\t4階   105万円              -   315万円        -   \n",
       "\n",
       "  madori  menseki  \n",
       "0  ワンルーム  12.64m2  \n",
       "1  ワンルーム   9.06m2  \n",
       "2  ワンルーム   9.06m2  \n",
       "3   1LDK  43.35m2  \n",
       "4   4LDK  181.6m2  "
      ]
     },
     "execution_count": 5,
     "metadata": {},
     "output_type": "execute_result"
    }
   ],
   "source": [
    "# データフレームの先頭5行を確認する\n",
    "df.head()"
   ]
  },
  {
   "cell_type": "markdown",
   "metadata": {},
   "source": [
    "このように、スクレイピングで取得した結果が、表形式になっていますね。\n",
    "\n",
    "表の大きさを確認するときは、`df.shape`を使ってあげます。"
   ]
  },
  {
   "cell_type": "code",
   "execution_count": 6,
   "metadata": {
    "execution": {
     "iopub.execute_input": "2023-12-31T06:46:43.994870Z",
     "iopub.status.busy": "2023-12-31T06:46:43.994870Z",
     "iopub.status.idle": "2023-12-31T06:46:44.002310Z",
     "shell.execute_reply": "2023-12-31T06:46:44.002310Z",
     "shell.execute_reply.started": "2023-12-31T06:46:43.994870Z"
    }
   },
   "outputs": [
    {
     "data": {
      "text/plain": [
       "(274, 11)"
      ]
     },
     "execution_count": 6,
     "metadata": {},
     "output_type": "execute_result"
    }
   ],
   "source": [
    "# dfの大きさを確認する\n",
    "df.shape"
   ]
  },
  {
   "cell_type": "markdown",
   "metadata": {},
   "source": [
    "そうすると、2つの数字がカッコに入った状態で取得できました。\n",
    "\n",
    "これは(行数, 列数)を表していて、要するに(縦の数, 横の数)ということになります。\n",
    "\n",
    "<br>\n",
    "\n",
    "今回でいうと、(取得した部屋の数, 取得した項目の数)ですね。\n",
    "\n",
    "<br>\n",
    "\n",
    "また、取得した物件数は1ページにつき20件なので、合計で40件になっているはずです。それも合わせて確認しておきましょう。\n",
    "\n",
    "物件名を重複無しで取得して、その大きさを取得するには以下のように書きます。"
   ]
  },
  {
   "cell_type": "code",
   "execution_count": 9,
   "metadata": {
    "execution": {
     "iopub.execute_input": "2023-12-31T06:48:13.499837Z",
     "iopub.status.busy": "2023-12-31T06:48:13.498829Z",
     "iopub.status.idle": "2023-12-31T06:48:13.505196Z",
     "shell.execute_reply": "2023-12-31T06:48:13.505196Z",
     "shell.execute_reply.started": "2023-12-31T06:48:13.499837Z"
    },
    "tags": []
   },
   "outputs": [
    {
     "data": {
      "text/plain": [
       "array(['カーサマグノリア', '都営大江戸線 落合南長崎駅 7階建 築45年', 'レジディア市谷砂土原', 'かたばみ苑第２',\n",
       "       'クラッシィハウス新宿中落合', 'ドルチェドミール', 'GRANPASEO市谷仲之町', 'コンフォリア市谷薬王寺',\n",
       "       '高田馬場戸建', 'プライムブリス新宿上落合', 'ザ・パークハウスアーバンス早稲田',\n",
       "       '東京メトロ東西線 早稲田駅 13階建 新築', 'アーバネックス西新宿II', 'ザ・パークハウス新宿柏木',\n",
       "       'パークスフィア牛込神楽坂', '都営新宿線 曙橋駅 4階建 新築', '北新宿レーベル', 'クレヴィア新宿若松町',\n",
       "       'Grand Hills西早稲田', 'ALTERNA神楽坂II\\u3000オルタナ神楽坂II',\n",
       "       '（仮称）新宿区下落合4丁目PJ', 'ＨＪ\\u3000ＰＬＡＣＥ神楽坂', 'LIBR GRANT 西新宿EAST',\n",
       "       'グランドパピヨン目白', 'リーブルグラント西新宿\\u3000ＷＥＳＴ', 'ザ・パークハウス西新宿タワー６０',\n",
       "       'グレンドール新宿牛込柳町', 'ハーモニーレジデンス神楽坂ヒルズthrid', 'Ｎビル上落合',\n",
       "       '都営大江戸線 牛込柳町駅 地下1地上13階建 築3年', 'ルクレ高田馬場', 'アソシエール中落合II',\n",
       "       'パークハウス新宿若松町', 'クレストコート新宿山吹町', '中井戸建', 'アーバンステージ下落合', 'ドゥーエ早稲田',\n",
       "       'ディールーム早稲田', 'Princess-Line四谷四丁目EAST', 'イプセ神楽坂'], dtype=object)"
      ]
     },
     "execution_count": 9,
     "metadata": {},
     "output_type": "execute_result"
    }
   ],
   "source": [
    "# 物件名の重複を削除して、その大きさを確認する\n",
    "df.title.unique()"
   ]
  },
  {
   "cell_type": "code",
   "execution_count": 10,
   "metadata": {
    "execution": {
     "iopub.execute_input": "2023-12-31T06:48:14.078938Z",
     "iopub.status.busy": "2023-12-31T06:48:14.078938Z",
     "iopub.status.idle": "2023-12-31T06:48:14.084704Z",
     "shell.execute_reply": "2023-12-31T06:48:14.084086Z",
     "shell.execute_reply.started": "2023-12-31T06:48:14.078938Z"
    },
    "tags": []
   },
   "outputs": [
    {
     "data": {
      "text/plain": [
       "40"
      ]
     },
     "execution_count": 10,
     "metadata": {},
     "output_type": "execute_result"
    }
   ],
   "source": [
    "len(df.title.unique())"
   ]
  },
  {
   "cell_type": "markdown",
   "metadata": {},
   "source": [
    "そうすると\"40\"と表示されましたので、「今回取得した物件数は40件だった」ということが分かります。"
   ]
  },
  {
   "cell_type": "markdown",
   "metadata": {},
   "source": [
    "## 表形式の取得結果をCSVに出力する\n",
    "\n",
    "スクレイピングで取得した結果を表形式にできたので、あとはCSVに出力するだけです。\n",
    "\n",
    "データフレームをCSVに出力するには、以下のように`df.to_csv()`を使ってあげます。"
   ]
  },
  {
   "cell_type": "code",
   "execution_count": 14,
   "metadata": {
    "execution": {
     "iopub.execute_input": "2023-12-31T06:52:50.811344Z",
     "iopub.status.busy": "2023-12-31T06:52:50.811344Z",
     "iopub.status.idle": "2023-12-31T06:52:50.817848Z",
     "shell.execute_reply": "2023-12-31T06:52:50.817848Z",
     "shell.execute_reply.started": "2023-12-31T06:52:50.811344Z"
    },
    "tags": []
   },
   "outputs": [],
   "source": [
    "# to_csv()を使って、データフレームをCSV出力する\n",
    "df.to_csv(\"test.csv\",index=None,encoding=\"utf-8-sig\")"
   ]
  },
  {
   "cell_type": "markdown",
   "metadata": {},
   "source": [
    "これで、カッコの中に書いたファイル名でCSVを作成できました。\n",
    "\n",
    "CSVを作成するときは、他にも2つの引数を設定しています。それぞれの意味は、以下のとおりです。\n",
    "\n",
    "- index=None : インデックス部分をつけない\n",
    "- encoding=\"utf-8-sig\" : 文字コードを指定(→Excelで開いたときの文字化け対策です)\n",
    "\n",
    "基本的にCSV出力するときは、このような設定にしておくと良いと思います。\n",
    "\n",
    "*※時間があったら、それぞれの引数を設定しないCSVも出力してみると面白いと思います！*\n",
    "\n",
    "<br>\n",
    "\n",
    "少し余談ですが、会社の分析環境がLinux、使っているPCはWindowsが多いので、この文字化け問題は、わりとあるあるです！笑\n",
    "\n",
    "*※Linuxとかよく分からない場合は、分析している場所がタイで、実際にCSVを読みたい人は日本人と考えていただけると良いかと。日本人がタイ語を解読するのは難しいですよね！*\n",
    "\n",
    "この動画の第1回目で紹介したように「副業でスクレイピングをやってみたい」と思っているなら、文字コードは`utf-8-sig`にしてあげるのが優しいと思います！"
   ]
  },
  {
   "cell_type": "markdown",
   "metadata": {},
   "source": [
    "# まとめと余談\n",
    "\n",
    "というわけで、これでスクレイピング結果の保存もできるようになりました。\n",
    "\n",
    "第9回目までスクレイピングについて紹介してきましたが、いかがだったでしょうか？\n",
    "\n",
    "<br>\n",
    "\n",
    "ここまで学んでくださった皆さんであれば、あとは自分の好きなWebサイトで、スクレイピングできるようになっているはずです。\n",
    "\n",
    "ここまでで一旦の区切りになりますが、スクレイピング入門は後半戦も続いていきます。\n",
    "\n",
    "<br>\n",
    "\n",
    "後半戦では、JavaScriptが使われているサイトで、`Selenium`を使ってスクレイピングしていく方法を紹介していきます。\n",
    "\n",
    "具体的には「好きな女優の画像を自動で保存する」方法を紹介します。\n",
    "\n",
    "*※ちなみに、僕が好きな女優は岡本玲と小芝風花です！*\n",
    "\n",
    "<br>\n",
    "\n",
    "`Selenium`を学ぶと、ブラウザの自動操作ができるようになるので、スクレイピング以外にも色々なことができるようになります。\n",
    "\n",
    "<br>\n",
    "\n",
    "もっとPythonやスクレイピングを学んでみたい人は、一緒に頑張っていきましょう！\n",
    "\n"
   ]
  },
  {
   "cell_type": "markdown",
   "metadata": {},
   "source": [
    "## (余談)余計な文字を削除する方法\n",
    "\n",
    "こちらは動画内で解説しませんが「ぜひしておくと良いかな？」といった知識になります。\n",
    "\n",
    "今回取得したデータには、以下のように「余計な文字」が含まれていました。\n",
    "\n",
    "- \\r\n",
    "- \\n\n",
    "- \\t\n",
    "\n",
    "これらは、シンプルに必要ない文字になります。\n",
    "\n",
    "特に、`\\t`タブで空白をあける記号ですが、これはCSVをタブ区切りにしたとき、バグを発生させる原因になります。\n",
    "\n",
    "*※CSVはカンマ区切りがスタンダードですが、タブでも区切ることができます。*\n",
    "\n",
    "なので、これらの文字は削除してしまいましょう。\n",
    "\n",
    "<br>\n",
    "\n",
    "これには正規表現を使ってあげると良く、Pythonで正規表現を扱うには`re`(Regular Expressions)をインポートする必要があります。"
   ]
  },
  {
   "cell_type": "code",
   "execution_count": 16,
   "metadata": {
    "execution": {
     "iopub.execute_input": "2023-12-31T06:53:46.118527Z",
     "iopub.status.busy": "2023-12-31T06:53:46.118527Z",
     "iopub.status.idle": "2023-12-31T06:53:46.123894Z",
     "shell.execute_reply": "2023-12-31T06:53:46.123826Z",
     "shell.execute_reply.started": "2023-12-31T06:53:46.118527Z"
    }
   },
   "outputs": [],
   "source": [
    "# reをインポートする\n",
    "import re"
   ]
  },
  {
   "cell_type": "markdown",
   "metadata": {},
   "source": [
    "作成しておいた`df`に対して、`re.sub()`を使ってあげると、文字列の削除ができます。\n",
    "\n",
    "*※正確には、文字の置換をするメソッドです。*\n",
    "\n",
    "<br>\n",
    "\n",
    "まずは実際に`\\n`を削除するコードを見てみましょう。"
   ]
  },
  {
   "cell_type": "code",
   "execution_count": 17,
   "metadata": {
    "execution": {
     "iopub.execute_input": "2023-12-31T06:53:47.394466Z",
     "iopub.status.busy": "2023-12-31T06:53:47.393467Z",
     "iopub.status.idle": "2023-12-31T06:53:47.418205Z",
     "shell.execute_reply": "2023-12-31T06:53:47.417515Z",
     "shell.execute_reply.started": "2023-12-31T06:53:47.394466Z"
    },
    "scrolled": true,
    "tags": []
   },
   "outputs": [
    {
     "data": {
      "text/html": [
       "<div>\n",
       "<style scoped>\n",
       "    .dataframe tbody tr th:only-of-type {\n",
       "        vertical-align: middle;\n",
       "    }\n",
       "\n",
       "    .dataframe tbody tr th {\n",
       "        vertical-align: top;\n",
       "    }\n",
       "\n",
       "    .dataframe thead th {\n",
       "        text-align: right;\n",
       "    }\n",
       "</style>\n",
       "<table border=\"1\" class=\"dataframe\">\n",
       "  <thead>\n",
       "    <tr style=\"text-align: right;\">\n",
       "      <th></th>\n",
       "      <th>title</th>\n",
       "      <th>address</th>\n",
       "      <th>access</th>\n",
       "      <th>age</th>\n",
       "      <th>floor</th>\n",
       "      <th>fee</th>\n",
       "      <th>management_fee</th>\n",
       "      <th>deposit</th>\n",
       "      <th>gratuity</th>\n",
       "      <th>madori</th>\n",
       "      <th>menseki</th>\n",
       "    </tr>\n",
       "  </thead>\n",
       "  <tbody>\n",
       "    <tr>\n",
       "      <th>0</th>\n",
       "      <td>カーサマグノリア</td>\n",
       "      <td>東京都新宿区上落合３</td>\n",
       "      <td>東京メトロ東西線/落合駅 歩4分 ＪＲ中央線/東中野駅 歩7分 都営大江戸線/中井駅 歩8分</td>\n",
       "      <td>築5年 地下1地上2階建</td>\n",
       "      <td>\\r \\t\\t\\t\\t\\t\\t\\t\\t\\t\\t\\t1階</td>\n",
       "      <td>6.05万円</td>\n",
       "      <td>5000円</td>\n",
       "      <td>-</td>\n",
       "      <td>-</td>\n",
       "      <td>ワンルーム</td>\n",
       "      <td>12.64m2</td>\n",
       "    </tr>\n",
       "    <tr>\n",
       "      <th>1</th>\n",
       "      <td>カーサマグノリア</td>\n",
       "      <td>東京都新宿区上落合３</td>\n",
       "      <td>東京メトロ東西線/落合駅 歩4分 ＪＲ中央線/東中野駅 歩7分 都営大江戸線/中井駅 歩8分</td>\n",
       "      <td>築5年 地下1地上2階建</td>\n",
       "      <td>\\r \\t\\t\\t\\t\\t\\t\\t\\t\\t\\t\\t2階</td>\n",
       "      <td>6.45万円</td>\n",
       "      <td>5000円</td>\n",
       "      <td>-</td>\n",
       "      <td>-</td>\n",
       "      <td>ワンルーム</td>\n",
       "      <td>9.06m2</td>\n",
       "    </tr>\n",
       "    <tr>\n",
       "      <th>2</th>\n",
       "      <td>カーサマグノリア</td>\n",
       "      <td>東京都新宿区上落合３</td>\n",
       "      <td>東京メトロ東西線/落合駅 歩4分 ＪＲ中央線/東中野駅 歩7分 都営大江戸線/中井駅 歩8分</td>\n",
       "      <td>築5年 地下1地上2階建</td>\n",
       "      <td>\\r \\t\\t\\t\\t\\t\\t\\t\\t\\t\\t\\t2階</td>\n",
       "      <td>6.45万円</td>\n",
       "      <td>5000円</td>\n",
       "      <td>-</td>\n",
       "      <td>-</td>\n",
       "      <td>ワンルーム</td>\n",
       "      <td>9.06m2</td>\n",
       "    </tr>\n",
       "    <tr>\n",
       "      <th>3</th>\n",
       "      <td>都営大江戸線 落合南長崎駅 7階建 築45年</td>\n",
       "      <td>東京都新宿区西落合１</td>\n",
       "      <td>都営大江戸線/落合南長崎駅 歩5分 西武池袋線/東長崎駅 歩13分 西武新宿線/中井駅 歩...</td>\n",
       "      <td>築45年 7階建</td>\n",
       "      <td>\\r \\t\\t\\t\\t\\t\\t\\t\\t\\t\\t\\t4階</td>\n",
       "      <td>13万円</td>\n",
       "      <td>5000円</td>\n",
       "      <td>13万円</td>\n",
       "      <td>15.6万円</td>\n",
       "      <td>1LDK</td>\n",
       "      <td>43.35m2</td>\n",
       "    </tr>\n",
       "    <tr>\n",
       "      <th>4</th>\n",
       "      <td>レジディア市谷砂土原</td>\n",
       "      <td>東京都新宿区市谷砂土原町３</td>\n",
       "      <td>都営大江戸線/牛込神楽坂駅 歩6分 東京メトロ有楽町線/市ケ谷駅 歩8分 ＪＲ中央線/飯田...</td>\n",
       "      <td>築16年 5階建</td>\n",
       "      <td>\\r \\t\\t\\t\\t\\t\\t\\t\\t\\t\\t\\t4階</td>\n",
       "      <td>105万円</td>\n",
       "      <td>-</td>\n",
       "      <td>315万円</td>\n",
       "      <td>-</td>\n",
       "      <td>4LDK</td>\n",
       "      <td>181.6m2</td>\n",
       "    </tr>\n",
       "  </tbody>\n",
       "</table>\n",
       "</div>"
      ],
      "text/plain": [
       "                    title        address  \\\n",
       "0                カーサマグノリア     東京都新宿区上落合３   \n",
       "1                カーサマグノリア     東京都新宿区上落合３   \n",
       "2                カーサマグノリア     東京都新宿区上落合３   \n",
       "3  都営大江戸線 落合南長崎駅 7階建 築45年     東京都新宿区西落合１   \n",
       "4              レジディア市谷砂土原  東京都新宿区市谷砂土原町３   \n",
       "\n",
       "                                              access             age  \\\n",
       "0    東京メトロ東西線/落合駅 歩4分 ＪＲ中央線/東中野駅 歩7分 都営大江戸線/中井駅 歩8分    築5年 地下1地上2階建    \n",
       "1    東京メトロ東西線/落合駅 歩4分 ＪＲ中央線/東中野駅 歩7分 都営大江戸線/中井駅 歩8分    築5年 地下1地上2階建    \n",
       "2    東京メトロ東西線/落合駅 歩4分 ＪＲ中央線/東中野駅 歩7分 都営大江戸線/中井駅 歩8分    築5年 地下1地上2階建    \n",
       "3   都営大江戸線/落合南長崎駅 歩5分 西武池袋線/東長崎駅 歩13分 西武新宿線/中井駅 歩...       築45年 7階建    \n",
       "4   都営大江戸線/牛込神楽坂駅 歩6分 東京メトロ有楽町線/市ケ谷駅 歩8分 ＪＲ中央線/飯田...       築16年 5階建    \n",
       "\n",
       "                         floor     fee management_fee deposit gratuity madori  \\\n",
       "0  \\r \\t\\t\\t\\t\\t\\t\\t\\t\\t\\t\\t1階  6.05万円          5000円       -        -  ワンルーム   \n",
       "1  \\r \\t\\t\\t\\t\\t\\t\\t\\t\\t\\t\\t2階  6.45万円          5000円       -        -  ワンルーム   \n",
       "2  \\r \\t\\t\\t\\t\\t\\t\\t\\t\\t\\t\\t2階  6.45万円          5000円       -        -  ワンルーム   \n",
       "3  \\r \\t\\t\\t\\t\\t\\t\\t\\t\\t\\t\\t4階    13万円          5000円    13万円   15.6万円   1LDK   \n",
       "4  \\r \\t\\t\\t\\t\\t\\t\\t\\t\\t\\t\\t4階   105万円              -   315万円        -   4LDK   \n",
       "\n",
       "   menseki  \n",
       "0  12.64m2  \n",
       "1   9.06m2  \n",
       "2   9.06m2  \n",
       "3  43.35m2  \n",
       "4  181.6m2  "
      ]
     },
     "execution_count": 17,
     "metadata": {},
     "output_type": "execute_result"
    }
   ],
   "source": [
    "df2 = df.applymap(lambda x: re.sub('\\n', ' ', x))\n",
    "df2.head()"
   ]
  },
  {
   "cell_type": "markdown",
   "metadata": {},
   "source": [
    "取得してあるデータフレームから`\\n`を削除するには、このように書きます。\n",
    "\n",
    "かなり難しいですね...！\n",
    "\n",
    "- 正規表現`re`の取り扱い\n",
    "- ラムダ式の取り扱い\n",
    "- `Pandas`の取り扱い\n",
    "\n",
    "これらが分からないと、完全に意味不明になるはずです。なので今の段階では、「ああ、こうやって書くんだな〜」くらいの感覚で大丈夫です。\n",
    "\n",
    "一応、やっていることは、以下のようになっています。\n",
    "\n",
    "- df.applymap() : データフレーム全体に対して、カッコ内の関数を適応する\n",
    "- lambda x: re.sub('\\n', ' ', x)) : 引数で渡された`x`に対して、`\\n`を半角スペースに置換する\n",
    "\n",
    "まとめると、データフレーム全体に「`\\n`を半角スペースに置換する」という処理を当てているということになります。\n",
    "\n",
    "<br>\n",
    "\n",
    "追加で`\\r`と`\\t`も削除したい場合には、以下のように書けばOKですね！"
   ]
  },
  {
   "cell_type": "code",
   "execution_count": 18,
   "metadata": {
    "execution": {
     "iopub.execute_input": "2023-12-31T06:53:56.241617Z",
     "iopub.status.busy": "2023-12-31T06:53:56.240538Z",
     "iopub.status.idle": "2023-12-31T06:53:56.277240Z",
     "shell.execute_reply": "2023-12-31T06:53:56.275991Z",
     "shell.execute_reply.started": "2023-12-31T06:53:56.240538Z"
    }
   },
   "outputs": [
    {
     "data": {
      "text/html": [
       "<div>\n",
       "<style scoped>\n",
       "    .dataframe tbody tr th:only-of-type {\n",
       "        vertical-align: middle;\n",
       "    }\n",
       "\n",
       "    .dataframe tbody tr th {\n",
       "        vertical-align: top;\n",
       "    }\n",
       "\n",
       "    .dataframe thead th {\n",
       "        text-align: right;\n",
       "    }\n",
       "</style>\n",
       "<table border=\"1\" class=\"dataframe\">\n",
       "  <thead>\n",
       "    <tr style=\"text-align: right;\">\n",
       "      <th></th>\n",
       "      <th>title</th>\n",
       "      <th>address</th>\n",
       "      <th>access</th>\n",
       "      <th>age</th>\n",
       "      <th>floor</th>\n",
       "      <th>fee</th>\n",
       "      <th>management_fee</th>\n",
       "      <th>deposit</th>\n",
       "      <th>gratuity</th>\n",
       "      <th>madori</th>\n",
       "      <th>menseki</th>\n",
       "    </tr>\n",
       "  </thead>\n",
       "  <tbody>\n",
       "    <tr>\n",
       "      <th>0</th>\n",
       "      <td>カーサマグノリア</td>\n",
       "      <td>東京都新宿区上落合３</td>\n",
       "      <td>東京メトロ東西線/落合駅 歩4分 ＪＲ中央線/東中野駅 歩7分 都営大江戸線/中井駅 歩8分</td>\n",
       "      <td>築5年 地下1地上2階建</td>\n",
       "      <td>1階</td>\n",
       "      <td>6.05万円</td>\n",
       "      <td>5000円</td>\n",
       "      <td>-</td>\n",
       "      <td>-</td>\n",
       "      <td>ワンルーム</td>\n",
       "      <td>12.64m2</td>\n",
       "    </tr>\n",
       "    <tr>\n",
       "      <th>1</th>\n",
       "      <td>カーサマグノリア</td>\n",
       "      <td>東京都新宿区上落合３</td>\n",
       "      <td>東京メトロ東西線/落合駅 歩4分 ＪＲ中央線/東中野駅 歩7分 都営大江戸線/中井駅 歩8分</td>\n",
       "      <td>築5年 地下1地上2階建</td>\n",
       "      <td>2階</td>\n",
       "      <td>6.45万円</td>\n",
       "      <td>5000円</td>\n",
       "      <td>-</td>\n",
       "      <td>-</td>\n",
       "      <td>ワンルーム</td>\n",
       "      <td>9.06m2</td>\n",
       "    </tr>\n",
       "    <tr>\n",
       "      <th>2</th>\n",
       "      <td>カーサマグノリア</td>\n",
       "      <td>東京都新宿区上落合３</td>\n",
       "      <td>東京メトロ東西線/落合駅 歩4分 ＪＲ中央線/東中野駅 歩7分 都営大江戸線/中井駅 歩8分</td>\n",
       "      <td>築5年 地下1地上2階建</td>\n",
       "      <td>2階</td>\n",
       "      <td>6.45万円</td>\n",
       "      <td>5000円</td>\n",
       "      <td>-</td>\n",
       "      <td>-</td>\n",
       "      <td>ワンルーム</td>\n",
       "      <td>9.06m2</td>\n",
       "    </tr>\n",
       "    <tr>\n",
       "      <th>3</th>\n",
       "      <td>都営大江戸線 落合南長崎駅 7階建 築45年</td>\n",
       "      <td>東京都新宿区西落合１</td>\n",
       "      <td>都営大江戸線/落合南長崎駅 歩5分 西武池袋線/東長崎駅 歩13分 西武新宿線/中井駅 歩...</td>\n",
       "      <td>築45年 7階建</td>\n",
       "      <td>4階</td>\n",
       "      <td>13万円</td>\n",
       "      <td>5000円</td>\n",
       "      <td>13万円</td>\n",
       "      <td>15.6万円</td>\n",
       "      <td>1LDK</td>\n",
       "      <td>43.35m2</td>\n",
       "    </tr>\n",
       "    <tr>\n",
       "      <th>4</th>\n",
       "      <td>レジディア市谷砂土原</td>\n",
       "      <td>東京都新宿区市谷砂土原町３</td>\n",
       "      <td>都営大江戸線/牛込神楽坂駅 歩6分 東京メトロ有楽町線/市ケ谷駅 歩8分 ＪＲ中央線/飯田...</td>\n",
       "      <td>築16年 5階建</td>\n",
       "      <td>4階</td>\n",
       "      <td>105万円</td>\n",
       "      <td>-</td>\n",
       "      <td>315万円</td>\n",
       "      <td>-</td>\n",
       "      <td>4LDK</td>\n",
       "      <td>181.6m2</td>\n",
       "    </tr>\n",
       "    <tr>\n",
       "      <th>...</th>\n",
       "      <td>...</td>\n",
       "      <td>...</td>\n",
       "      <td>...</td>\n",
       "      <td>...</td>\n",
       "      <td>...</td>\n",
       "      <td>...</td>\n",
       "      <td>...</td>\n",
       "      <td>...</td>\n",
       "      <td>...</td>\n",
       "      <td>...</td>\n",
       "      <td>...</td>\n",
       "    </tr>\n",
       "    <tr>\n",
       "      <th>269</th>\n",
       "      <td>イプセ神楽坂</td>\n",
       "      <td>東京都新宿区矢来町</td>\n",
       "      <td>東京メトロ東西線/神楽坂駅 歩5分 都営大江戸線/牛込神楽坂駅 歩10分 東京メトロ有楽町...</td>\n",
       "      <td>新築 地下1地上4階建</td>\n",
       "      <td>4階</td>\n",
       "      <td>13.4万円</td>\n",
       "      <td>12000円</td>\n",
       "      <td>13.4万円</td>\n",
       "      <td>13.4万円</td>\n",
       "      <td>1DK</td>\n",
       "      <td>25.1m2</td>\n",
       "    </tr>\n",
       "    <tr>\n",
       "      <th>270</th>\n",
       "      <td>イプセ神楽坂</td>\n",
       "      <td>東京都新宿区矢来町</td>\n",
       "      <td>東京メトロ東西線/神楽坂駅 歩5分 都営大江戸線/牛込神楽坂駅 歩10分 東京メトロ有楽町...</td>\n",
       "      <td>新築 地下1地上4階建</td>\n",
       "      <td>1階</td>\n",
       "      <td>17.9万円</td>\n",
       "      <td>15000円</td>\n",
       "      <td>17.9万円</td>\n",
       "      <td>17.9万円</td>\n",
       "      <td>1LDK</td>\n",
       "      <td>43.42m2</td>\n",
       "    </tr>\n",
       "    <tr>\n",
       "      <th>271</th>\n",
       "      <td>イプセ神楽坂</td>\n",
       "      <td>東京都新宿区矢来町</td>\n",
       "      <td>東京メトロ東西線/神楽坂駅 歩5分 都営大江戸線/牛込神楽坂駅 歩10分 東京メトロ有楽町...</td>\n",
       "      <td>新築 地下1地上4階建</td>\n",
       "      <td>1階</td>\n",
       "      <td>17.9万円</td>\n",
       "      <td>15000円</td>\n",
       "      <td>17.9万円</td>\n",
       "      <td>17.9万円</td>\n",
       "      <td>1LDK</td>\n",
       "      <td>42.79m2</td>\n",
       "    </tr>\n",
       "    <tr>\n",
       "      <th>272</th>\n",
       "      <td>イプセ神楽坂</td>\n",
       "      <td>東京都新宿区矢来町</td>\n",
       "      <td>東京メトロ東西線/神楽坂駅 歩5分 都営大江戸線/牛込神楽坂駅 歩10分 東京メトロ有楽町...</td>\n",
       "      <td>新築 地下1地上4階建</td>\n",
       "      <td>1階</td>\n",
       "      <td>17.9万円</td>\n",
       "      <td>15000円</td>\n",
       "      <td>17.9万円</td>\n",
       "      <td>17.9万円</td>\n",
       "      <td>1LDK</td>\n",
       "      <td>42.81m2</td>\n",
       "    </tr>\n",
       "    <tr>\n",
       "      <th>273</th>\n",
       "      <td>イプセ神楽坂</td>\n",
       "      <td>東京都新宿区矢来町</td>\n",
       "      <td>東京メトロ東西線/神楽坂駅 歩5分 都営大江戸線/牛込神楽坂駅 歩10分 東京メトロ有楽町...</td>\n",
       "      <td>新築 地下1地上4階建</td>\n",
       "      <td>1階</td>\n",
       "      <td>18.5万円</td>\n",
       "      <td>15000円</td>\n",
       "      <td>18.5万円</td>\n",
       "      <td>18.5万円</td>\n",
       "      <td>1LDK</td>\n",
       "      <td>42.95m2</td>\n",
       "    </tr>\n",
       "  </tbody>\n",
       "</table>\n",
       "<p>274 rows × 11 columns</p>\n",
       "</div>"
      ],
      "text/plain": [
       "                      title        address  \\\n",
       "0                  カーサマグノリア     東京都新宿区上落合３   \n",
       "1                  カーサマグノリア     東京都新宿区上落合３   \n",
       "2                  カーサマグノリア     東京都新宿区上落合３   \n",
       "3    都営大江戸線 落合南長崎駅 7階建 築45年     東京都新宿区西落合１   \n",
       "4                レジディア市谷砂土原  東京都新宿区市谷砂土原町３   \n",
       "..                      ...            ...   \n",
       "269                  イプセ神楽坂      東京都新宿区矢来町   \n",
       "270                  イプセ神楽坂      東京都新宿区矢来町   \n",
       "271                  イプセ神楽坂      東京都新宿区矢来町   \n",
       "272                  イプセ神楽坂      東京都新宿区矢来町   \n",
       "273                  イプセ神楽坂      東京都新宿区矢来町   \n",
       "\n",
       "                                                access             age  \\\n",
       "0      東京メトロ東西線/落合駅 歩4分 ＪＲ中央線/東中野駅 歩7分 都営大江戸線/中井駅 歩8分    築5年 地下1地上2階建    \n",
       "1      東京メトロ東西線/落合駅 歩4分 ＪＲ中央線/東中野駅 歩7分 都営大江戸線/中井駅 歩8分    築5年 地下1地上2階建    \n",
       "2      東京メトロ東西線/落合駅 歩4分 ＪＲ中央線/東中野駅 歩7分 都営大江戸線/中井駅 歩8分    築5年 地下1地上2階建    \n",
       "3     都営大江戸線/落合南長崎駅 歩5分 西武池袋線/東長崎駅 歩13分 西武新宿線/中井駅 歩...       築45年 7階建    \n",
       "4     都営大江戸線/牛込神楽坂駅 歩6分 東京メトロ有楽町線/市ケ谷駅 歩8分 ＪＲ中央線/飯田...       築16年 5階建    \n",
       "..                                                 ...             ...   \n",
       "269   東京メトロ東西線/神楽坂駅 歩5分 都営大江戸線/牛込神楽坂駅 歩10分 東京メトロ有楽町...    新築 地下1地上4階建    \n",
       "270   東京メトロ東西線/神楽坂駅 歩5分 都営大江戸線/牛込神楽坂駅 歩10分 東京メトロ有楽町...    新築 地下1地上4階建    \n",
       "271   東京メトロ東西線/神楽坂駅 歩5分 都営大江戸線/牛込神楽坂駅 歩10分 東京メトロ有楽町...    新築 地下1地上4階建    \n",
       "272   東京メトロ東西線/神楽坂駅 歩5分 都営大江戸線/牛込神楽坂駅 歩10分 東京メトロ有楽町...    新築 地下1地上4階建    \n",
       "273   東京メトロ東西線/神楽坂駅 歩5分 都営大江戸線/牛込神楽坂駅 歩10分 東京メトロ有楽町...    新築 地下1地上4階建    \n",
       "\n",
       "               floor     fee management_fee deposit gratuity madori  menseki  \n",
       "0                 1階  6.05万円          5000円       -        -  ワンルーム  12.64m2  \n",
       "1                 2階  6.45万円          5000円       -        -  ワンルーム   9.06m2  \n",
       "2                 2階  6.45万円          5000円       -        -  ワンルーム   9.06m2  \n",
       "3                 4階    13万円          5000円    13万円   15.6万円   1LDK  43.35m2  \n",
       "4                 4階   105万円              -   315万円        -   4LDK  181.6m2  \n",
       "..               ...     ...            ...     ...      ...    ...      ...  \n",
       "269               4階  13.4万円         12000円  13.4万円   13.4万円    1DK   25.1m2  \n",
       "270               1階  17.9万円         15000円  17.9万円   17.9万円   1LDK  43.42m2  \n",
       "271               1階  17.9万円         15000円  17.9万円   17.9万円   1LDK  42.79m2  \n",
       "272               1階  17.9万円         15000円  17.9万円   17.9万円   1LDK  42.81m2  \n",
       "273               1階  18.5万円         15000円  18.5万円   18.5万円   1LDK  42.95m2  \n",
       "\n",
       "[274 rows x 11 columns]"
      ]
     },
     "execution_count": 18,
     "metadata": {},
     "output_type": "execute_result"
    }
   ],
   "source": [
    "df3 = df2.applymap(lambda x: re.sub('\\r', ' ', x))\n",
    "df3.applymap(lambda x: re.sub('\\t', ' ', x))"
   ]
  },
  {
   "cell_type": "markdown",
   "metadata": {},
   "source": [
    "これで余計な記号がなくなり、キレイなデータになりました。\n",
    "\n",
    "余談の知識でしたが、実践の場ではよく使うのでおさえておいて損はないですね。\n",
    "\n",
    "<br>\n",
    "\n",
    "「なんだか難しいけど、こうやってデータを扱えるようになっていきたいな〜」と思ったら、データサイエンスを勉強していくのが良いです。\n",
    "\n",
    "特に、Pythonを使ってデータを自由自在に扱っていくなら、`Pandas`を勉強すると良いですよ！\n",
    "\n",
    "*※もし需要があったら、僕の得意分野なので、動画で紹介していきたいと思います!!*\n",
    "\n",
    "<br>\n",
    "\n",
    "Pythonは勉強することが盛りだくさんです。焦らず、コツコツと頑張っていきましょう！\n",
    "\n",
    "もし良かったら、スクレイピング入門の後半戦も一緒に勉強していけると嬉しいです(｀・ω・´)！"
   ]
  },
  {
   "cell_type": "code",
   "execution_count": null,
   "metadata": {},
   "outputs": [],
   "source": []
  }
 ],
 "metadata": {
  "kernelspec": {
   "display_name": "Python 3 (ipykernel)",
   "language": "python",
   "name": "python3"
  },
  "language_info": {
   "codemirror_mode": {
    "name": "ipython",
    "version": 3
   },
   "file_extension": ".py",
   "mimetype": "text/x-python",
   "name": "python",
   "nbconvert_exporter": "python",
   "pygments_lexer": "ipython3",
   "version": "3.9.13"
  },
  "toc": {
   "base_numbering": 1,
   "nav_menu": {},
   "number_sections": true,
   "sideBar": true,
   "skip_h1_title": false,
   "title_cell": "Table of Contents",
   "title_sidebar": "Contents",
   "toc_cell": false,
   "toc_position": {
    "height": "calc(100% - 180px)",
    "left": "10px",
    "top": "150px",
    "width": "238.594px"
   },
   "toc_section_display": true,
   "toc_window_display": true
  },
  "widgets": {
   "application/vnd.jupyter.widget-state+json": {
    "state": {},
    "version_major": 2,
    "version_minor": 0
   }
  }
 },
 "nbformat": 4,
 "nbformat_minor": 4
}
